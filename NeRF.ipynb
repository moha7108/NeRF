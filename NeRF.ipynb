{
 "cells": [
  {
   "cell_type": "markdown",
   "id": "4cd82b4e-c7a3-42b2-bce1-38ad788276bb",
   "metadata": {},
   "source": [
    "# Neural Radiance Fields"
   ]
  },
  {
   "cell_type": "markdown",
   "id": "443c57b3-0fbd-4807-9aaa-a9fed37a22b6",
   "metadata": {},
   "source": [
    "### What Problem are we trying to solve?\n",
    "#### View Synthesis\n",
    "\n",
    "### what are Neural Randiance Fields?\n",
    "\n",
    "- 3d neural network encoding for continous viewpoints\n",
    "we want to over fit a neural network to a single point- \n",
    "- The weights of the Neural Networks represent the Scene\n",
    "\n",
    "\n",
    "#### Positional Encoding\n",
    "\n",
    "\n",
    "#### Represent a scene as a continous 5D function \n",
    "\n",
    "***Input:***\n",
    "- $$(x,y,z,\\theta, \\phi)$$\n",
    "    - $$(x,y,z) - Coordinates$$\n",
    "    - $$(\\theta, \\phi) - viewing\\;direction$$\n",
    "\n",
    "***Output:***\n",
    "- $$(r,g,b,\\sigma)$$\n",
    "    - $$(r,g,b) - color\\;channels$$\n",
    "    - $$\\sigma - density$$\n"
   ]
  },
  {
   "cell_type": "markdown",
   "id": "66a73598-d90d-4d58-bd8c-ba581b3bd194",
   "metadata": {
    "tags": []
   },
   "source": [
    "## Import Statements"
   ]
  },
  {
   "cell_type": "code",
   "execution_count": 1,
   "id": "a6aa76a2-3f0a-475d-93d7-b53ff48f675f",
   "metadata": {},
   "outputs": [],
   "source": [
    "import torch\n",
    "from torch.utils.data import DataLoader\n",
    "import numpy as np\n",
    "from tqdm import tqdm\n",
    "import torch.nn as nn\n",
    "import matplotlibas plt\n"
   ]
  },
  {
   "cell_type": "code",
   "execution_count": null,
   "id": "720fe71b-f435-455f-a304-5606998eb937",
   "metadata": {},
   "outputs": [],
   "source": []
  }
 ],
 "metadata": {
  "kernelspec": {
   "display_name": "Python 3 (ipykernel)",
   "language": "python",
   "name": "python3"
  },
  "language_info": {
   "codemirror_mode": {
    "name": "ipython",
    "version": 3
   },
   "file_extension": ".py",
   "mimetype": "text/x-python",
   "name": "python",
   "nbconvert_exporter": "python",
   "pygments_lexer": "ipython3",
   "version": "3.10.6"
  }
 },
 "nbformat": 4,
 "nbformat_minor": 5
}
