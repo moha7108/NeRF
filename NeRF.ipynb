{
 "cells": [
  {
   "cell_type": "markdown",
   "id": "4cd82b4e-c7a3-42b2-bce1-38ad788276bb",
   "metadata": {},
   "source": [
    "# Neural Radiance Fields"
   ]
  },
  {
   "cell_type": "markdown",
   "id": "443c57b3-0fbd-4807-9aaa-a9fed37a22b6",
   "metadata": {},
   "source": [
    "### What Problem are we trying to solve?\n",
    "#### View Synthesis\n",
    "\n",
    "### what are Neural Randiance Fields?\n",
    "\n",
    "- 3d neural network encoding for continous viewpoints\n",
    "we want to over fit a neural network to a single point- \n",
    "- The weights of the Neural Networks represent the Scene\n",
    "\n",
    "\n",
    "#### Positional Encoding\n",
    "\n",
    "\n",
    "#### Represent a scene as a continous 5D function \n",
    "\n",
    "***Input:***\n",
    "- $$(x,y,z,\\theta, \\phi)$$\n",
    "    - $$(x,y,z) - Coordinates$$\n",
    "    - $$(\\theta, \\phi) - viewing\\;direction$$\n",
    "\n",
    "***Output:***\n",
    "- $$(r,g,b,\\sigma)$$\n",
    "    - $$(r,g,b) - color\\;channels$$\n",
    "    - $$\\sigma - density$$\n"
   ]
  },
  {
   "cell_type": "markdown",
   "id": "66a73598-d90d-4d58-bd8c-ba581b3bd194",
   "metadata": {
    "tags": []
   },
   "source": [
    "## Import Statements"
   ]
  },
  {
   "cell_type": "code",
<<<<<<< HEAD
   "execution_count": 4,
=======
   "execution_count": null,
>>>>>>> 71863c0 (remove large data files, transfer to data folder and update git ignore folfer)
   "id": "a6aa76a2-3f0a-475d-93d7-b53ff48f675f",
   "metadata": {},
   "outputs": [],
   "source": [
    "import torch\n",
    "from torch.utils.data import DataLoader\n",
    "import numpy as np\n",
    "from tqdm import tqdm\n",
    "import torch.nn as nn\n",
    "import matplotlib as plt\n"
   ]
  },
  {
   "cell_type": "markdown",
   "id": "2fa8e6c7-ce85-4ab1-8661-582130b8a823",
   "metadata": {},
   "source": [
    "## Defining the Neural network structure"
   ]
  },
  {
   "cell_type": "code",
<<<<<<< HEAD
   "execution_count": 5,
   "id": "8552bffb-7a04-4e59-8e85-52018e2fdb4b",
=======
   "execution_count": null,
   "id": "58931dc5-12b7-4ec5-af15-6a9d9b18e531",
>>>>>>> 71863c0 (remove large data files, transfer to data folder and update git ignore folfer)
   "metadata": {},
   "outputs": [],
   "source": [
    "class Nerf(nn.Module):\n",
    "    def __init__(self, pos_dim=10, dir_dim =4, hidden_dim = 128):\n",
    "        super().__init__()\n",
    "        \n",
    "        self.dir_dim = dir_dim\n",
    "        self.pos_dim = pos_dim\n",
    "        \n",
    "        \n",
    "        self.b1 = nn.Sequential(nn.Linear(pos_dim*6+3, hidden_dim), nn.ReLU(),\n",
    "                                nn.Linear(hidden_dim,hidden_dim), nn.ReLU(),\n",
    "                                nn.Linear(hidden_dim,hidden_dim), nn.ReLU(),\n",
    "                                nn.Linear(hidden_dim,hidden_dim), nn.ReLU()\n",
    "                               )\n",
    "        \n",
    "        self.b2 = nn.Sequential(nn.Linear(pos_dim*6+3, hidden_dim), nn.ReLU(),\n",
    "                                nn.Linear(hidden_dim,hidden_dim), nn.ReLU(),\n",
    "                                nn.Linear(hidden_dim,hidden_dim), nn.ReLU(),\n",
    "                                nn.Linear(hidden_dim, hidden_dim+1)\n",
    "                               )\n",
    "        \n",
    "        self.b3 = nn.Sequential(nn.Linear(dir_dim*6+hidden_dim+3, hidden_dim//2), nn.ReLU()\n",
    "                               )\n",
    "        \n",
    "        self.b4 = nn.Sequential(nn.Linear(hidden_dem//2, 3), nn.Sigmoid()\n",
    "                               )\n",
    "        \n",
    "    @staticmethod\n",
    "    def pos_encoding(x, L):\n",
    "        out = [x]\n",
    "        \n",
    "        for i in range(L):\n",
    "            out.append(torch.sin(2**i*x))\n",
    "            out.append(torch.cos(2**i*x))\n",
    "            \n",
    "        return torch.cat(out, dim=1)\n",
    "    \n",
    "    def forward(self, o, d):\n",
    "        emb_x = self.pos_encoding(o, self.pos_dim)\n",
    "        emb_d = self.pos_encoding(d, self.dir_dim)\n",
    "        \n",
    "        h = self.b1(emb_x)\n",
    "        tmp = self.b2(torch.cat((h,emb_x), dim=1))\n",
    "        h,sigma = tmp[:,:-1], self.relu(tmp[:,-1])\n",
    "        h = self.b3(toch.cat(h,emb_d), dim=1)\n",
    "        c = self.b4(h)\n",
    "        \n",
    "        return x, simga\n",
    "    "
   ]
  },
  {
   "cell_type": "code",
   "execution_count": null,
   "id": "1aa0e9d5-d43a-4458-a18e-905078428a1e",
   "metadata": {},
   "outputs": [],
   "source": [
    "def accumulated_transmittance(alphas):\n",
    "    at = torch.cumprod(alphas,1)\n",
    "    \n",
    "    return torch.cat((torch.ones((at.shape[0],1), device=alphas.device), at[:,:-1]), dim=1)\n",
    "\n",
    "def render_rays(nerf_model, ray_origins, ray_directions, hn=0, hf=0.5, nb_bins=192):\n",
    "    "
   ]
<<<<<<< HEAD
=======
  },
  {
   "cell_type": "markdown",
   "id": "859830ca-d725-4bd3-99e2-27bed1cb94f8",
   "metadata": {
    "tags": []
   },
   "source": [
    "## Function for training and sampling the model"
   ]
  },
  {
   "cell_type": "code",
   "execution_count": null,
   "id": "fcbe7b7f-9a07-418c-9498-8ba0d76684a7",
   "metadata": {
    "tags": []
   },
   "outputs": [],
   "source": [
    "def train(nerf_model, optimizer, scheduler, data_loader, device='cpu', hn=0, hf=1, nb_epochs=int(1e5), nb_bins=192, H=400, W=400,render_each_epoch=False):\n",
    "    training_loss = []\n",
    "    for _ in trange(nb_epochs):\n",
    "        for batch in tqdm(data_loader):\n",
    "            \n",
    "            ray_origins = batch[:,:3].to(device)\n",
    "            ray_directions = batch[:,3:6].to(device)\n",
    "            ground_truth_px_values = batch[:,6:].to(device)\n",
    "            \n",
    "            regenerated_px_values = render_rays(nerf_model, ray_origins, ray_directions, hn=hn, hf=hf, nb_bins=nb_bins)\n",
    "            loss = ((ground_truth_px_values - regenerated_px_values)**2).sum()\n",
    "            \n",
    "            optimizer.zero_grad()\n",
    "            loss.backward()\n",
    "            optimizer.step()\n",
    "            training_loss.append(loss.item())\n",
    "        scheduler.step()\n",
    "        \n",
    "        if render_each_epoch:\n",
    "            print('Saving New Viewpoints')\n",
    "            for img_index in range(200):\n",
    "                test(hn, hf, testing_dataset, img_index=img_index, nb_bins =nb_bins, H=H, W=W,device=device)\n",
    "    \n",
    "    return training_loss\n",
    "\n",
    "@torch.no_grad()\n",
    "def test(hn, hf, dataset, chunk_size=10, img_index=0, nb_bins=192,H=400, W=400, device = 'cpu'):\n",
    "    ray_origins = dataset[img_index*H*W: (img_index+1)*H*W, :3]\n",
    "    ray_directions = dataset[img_index *H*W: (img_index+1)*H*W, 3:6]\n",
    "    \n",
    "    \n",
    "    data = []\n",
    "    \n",
    "    for i in range(int(np.ceil(H/chunk_size))):\n",
    "        ray_origins_ = ray_origins[i*W*chunk_size: (i+1)*W*chunk_size].to(device)\n",
    "        ray_directions_ = ray_directions[i*W*chunk_size: (i+1)*W*chunk_size].to(device)\n",
    "        regenerated_px_values = render_rays(model, ray_origins_, ray_directions_, hn=hn, hf=hf, nb_bins=nb_bins)\n",
    "        data.append(regenerated_px_values)\n",
    "        \n",
    "    img = torch.cat(data).data.cpu().numpy().reshape(H,W,3)\n",
    "    \n",
    "    plt.figure();\n",
    "    plt.imshow(img);\n",
    "    plt.savefig(f'novel_views/img_{img_index}.png', bbox_inches='tight');\n",
    "    plt.close();"
   ]
  },
  {
   "cell_type": "markdown",
   "id": "7376ce71-1dba-4a35-8327-d43ef72e54ec",
   "metadata": {},
   "source": [
    "## Load and Train the model"
   ]
  },
  {
   "cell_type": "code",
   "execution_count": null,
   "id": "ce2148f2-f209-4b7b-89dd-a0cf3ca0cffa",
   "metadata": {
    "tags": []
   },
   "outputs": [],
   "source": [
    "device = \"cuda\" if torch.cuda.is_available() else \"mps\" if torch.backends.mps.is_available() else \"cpu\"\n",
    "\n",
    "print(device)\n",
    "\n",
    "training_dataset = torch.from_numpy(np.load('./data/training_data.pkl', allow_pickle=True))\n",
    "testing_dataset = torch.from_numpy(np.load('./data/testing_data.pkl', allow_pickle=True))\n",
    "\n",
    "model = NerfModel(hidden_dim=256).to(device)\n",
    "\n",
    "model_optimizer = torch.optim.Adam(model.parameters(), lr=5e-4)\n",
    "scheduler = torch.optim.lr_scheduler.MultiStepLR(model_optimizer, milestones=[2,4,8], gamma=0.5)\n",
    "\n",
    "data_loader = DataLoader(training_dataset, batch_size=1024, shuffle=True)\n",
    "train(model, model_optimizer, scheduler, data_loader, nb_epochs=16, device=device, hn=2, hf=6, nb_bins=192, H=400, W=400, render_each_epoch=False)\n"
   ]
  },
  {
   "cell_type": "markdown",
   "id": "4c90ff00-397b-45fd-8033-0496cbd36ff6",
   "metadata": {
    "tags": []
   },
   "source": [
    "## Sample the model to generate a new View Point"
   ]
  },
  {
   "cell_type": "code",
   "execution_count": null,
   "id": "643c58dd-6b20-4500-bef8-47c1570d8590",
   "metadata": {
    "tags": []
   },
   "outputs": [],
   "source": [
    "for img_index in range(200):\n",
    "    test(hn=2, hf=6, dataset=testing_dataset, chunk_size=10, img_index=img_index, nb_bins=192, H=400, W=400, device=device)"
   ]
  },
  {
   "cell_type": "code",
   "execution_count": null,
   "id": "e7627fac-2469-490d-aef3-0248e54bda50",
   "metadata": {},
   "outputs": [],
   "source": []
>>>>>>> 71863c0 (remove large data files, transfer to data folder and update git ignore folfer)
  }
 ],
 "metadata": {
  "kernelspec": {
   "display_name": "Python 3 (ipykernel)",
   "language": "python",
   "name": "python3"
  },
  "language_info": {
   "codemirror_mode": {
    "name": "ipython",
    "version": 3
   },
   "file_extension": ".py",
   "mimetype": "text/x-python",
   "name": "python",
   "nbconvert_exporter": "python",
   "pygments_lexer": "ipython3",
   "version": "3.10.6"
  }
 },
 "nbformat": 4,
 "nbformat_minor": 5
}
