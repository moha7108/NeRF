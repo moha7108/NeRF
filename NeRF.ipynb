{
 "cells": [
  {
   "cell_type": "markdown",
   "id": "4cd82b4e-c7a3-42b2-bce1-38ad788276bb",
   "metadata": {},
   "source": [
    "# Neural Radiance Fields"
   ]
  },
  {
   "cell_type": "markdown",
   "id": "443c57b3-0fbd-4807-9aaa-a9fed37a22b6",
   "metadata": {},
   "source": [
    "### What Problem are we trying to solve?\n",
    "#### View Synthesis\n",
    "\n",
    "### what are Neural Randiance Fields?\n",
    "\n",
    "- 3d neural network encoding for continous viewpoints\n",
    "we want to over fit a neural network to a single point- \n",
    "- The weights of the Neural Networks represent the Scene\n",
    "\n",
    "\n",
    "#### Positional Encoding\n",
    "\n",
    "\n",
    "#### Represent a scene as a continous 5D function \n",
    "\n",
    "***Input:***\n",
    "- $$(x,y,z,\\theta, \\phi)$$\n",
    "    - $$(x,y,z) - Coordinates$$\n",
    "    - $$(\\theta, \\phi) - viewing\\;direction$$\n",
    "\n",
    "***Output:***\n",
    "- $$(r,g,b,\\sigma)$$\n",
    "    - $$(r,g,b) - color\\;channels$$\n",
    "    - $$\\sigma - density$$\n"
   ]
  },
  {
   "cell_type": "markdown",
   "id": "66a73598-d90d-4d58-bd8c-ba581b3bd194",
   "metadata": {
    "tags": []
   },
   "source": [
    "## Import Statements"
   ]
  },
  {
   "cell_type": "code",
   "execution_count": 4,
   "id": "a6aa76a2-3f0a-475d-93d7-b53ff48f675f",
   "metadata": {},
   "outputs": [],
   "source": [
    "import torch\n",
    "from torch.utils.data import DataLoader\n",
    "import numpy as np\n",
    "from tqdm import tqdm\n",
    "import torch.nn as nn\n",
    "import matplotlib as plt\n"
   ]
  },
  {
   "cell_type": "markdown",
   "id": "2fa8e6c7-ce85-4ab1-8661-582130b8a823",
   "metadata": {},
   "source": [
    "## Defining the Neural network structure"
   ]
  },
  {
   "cell_type": "code",
   "execution_count": 5,
   "id": "8552bffb-7a04-4e59-8e85-52018e2fdb4b",
   "metadata": {},
   "outputs": [],
   "source": [
    "class Nerf(nn.Module):\n",
    "    def __init__(self, pos_dim=10, dir_dim =4, hidden_dim = 128):\n",
    "        super().__init__()\n",
    "        \n",
    "        self.dir_dim = dir_dim\n",
    "        self.pos_dim = pos_dim\n",
    "        \n",
    "        \n",
    "        self.b1 = nn.Sequential(nn.Linear(pos_dim*6+3, hidden_dim), nn.ReLU(),\n",
    "                                nn.Linear(hidden_dim,hidden_dim), nn.ReLU(),\n",
    "                                nn.Linear(hidden_dim,hidden_dim), nn.ReLU(),\n",
    "                                nn.Linear(hidden_dim,hidden_dim), nn.ReLU()\n",
    "                               )\n",
    "        \n",
    "        self.b2 = nn.Sequential(nn.Linear(pos_dim*6+3, hidden_dim), nn.ReLU(),\n",
    "                                nn.Linear(hidden_dim,hidden_dim), nn.ReLU(),\n",
    "                                nn.Linear(hidden_dim,hidden_dim), nn.ReLU(),\n",
    "                                nn.Linear(hidden_dim, hidden_dim+1)\n",
    "                               )\n",
    "        \n",
    "        self.b3 = nn.Sequential(nn.Linear(dir_dim*6+hidden_dim+3, hidden_dim//2), nn.ReLU()\n",
    "                               )\n",
    "        \n",
    "        self.b4 = nn.Sequential(nn.Linear(hidden_dem//2, 3), nn.Sigmoid()\n",
    "                               )\n",
    "        \n",
    "    @staticmethod\n",
    "    def pos_encoding(x, L):\n",
    "        out = [x]\n",
    "        \n",
    "        for i in range(L):\n",
    "            out.append(torch.sin(2**i*x))\n",
    "            out.append(torch.cos(2**i*x))\n",
    "            \n",
    "        return torch.cat(out, dim=1)\n",
    "    \n",
    "    def forward(self, o, d):\n",
    "        emb_x = self.pos_encoding(o, self.pos_dim)\n",
    "        emb_d = self.pos_encoding(d, self.dir_dim)\n",
    "        \n",
    "        h = self.b1(emb_x)\n",
    "        tmp = self.b2(torch.cat((h,emb_x), dim=1))\n",
    "        h,sigma = tmp[:,:-1], self.relu(tmp[:,-1])\n",
    "        h = self.b3(toch.cat(h,emb_d), dim=1)\n",
    "        c = self.b4(h)\n",
    "        \n",
    "        return x, simga\n",
    "    "
   ]
  },
  {
   "cell_type": "code",
   "execution_count": null,
   "id": "1aa0e9d5-d43a-4458-a18e-905078428a1e",
   "metadata": {},
   "outputs": [],
   "source": [
    "def accumulated_transmittance(alphas):\n",
    "    at = torch.cumprod(alphas,1)\n",
    "    \n",
    "    return torch.cat((torch.ones((at.shape[0],1), device=alphas.device), at[:,:-1]), dim=1)\n",
    "\n",
    "def render_rays(nerf_model, ray_origins, ray_directions, hn=0, hf=0.5, nb_bins=192):\n",
    "    "
   ]
  }
 ],
 "metadata": {
  "kernelspec": {
   "display_name": "Python 3 (ipykernel)",
   "language": "python",
   "name": "python3"
  },
  "language_info": {
   "codemirror_mode": {
    "name": "ipython",
    "version": 3
   },
   "file_extension": ".py",
   "mimetype": "text/x-python",
   "name": "python",
   "nbconvert_exporter": "python",
   "pygments_lexer": "ipython3",
   "version": "3.10.6"
  }
 },
 "nbformat": 4,
 "nbformat_minor": 5
}
